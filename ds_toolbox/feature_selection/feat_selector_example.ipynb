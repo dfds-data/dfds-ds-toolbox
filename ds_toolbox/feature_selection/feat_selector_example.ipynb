{
 "cells": [
  {
   "cell_type": "code",
   "execution_count": 14,
   "id": "17fb4b5c",
   "metadata": {},
   "outputs": [
    {
     "name": "stdout",
     "output_type": "stream",
     "text": [
      "PROJECT_ROOT_PATH C:\\Users\\urcha\\repos\\ds_toolbox\\ds_toolbox\n"
     ]
    }
   ],
   "source": [
    "from pathlib import Path\n",
    "import pandas as pd\n",
    "import numpy as np\n",
    "\n",
    "# Specify project paths\n",
    "import os\n",
    "import sys\n",
    "PROJECT_ROOT_PATH = os.path.dirname(os.path.abspath(os.path.join(os.getcwd(), )))\n",
    "print('PROJECT_ROOT_PATH',PROJECT_ROOT_PATH)\n",
    "sys.path.append(PROJECT_ROOT_PATH)"
   ]
  },
  {
   "cell_type": "markdown",
   "id": "71bc7394",
   "metadata": {},
   "source": [
    "Links:\n",
    "- https://medium.com/@GouthamPeri/pipeline-with-tuning-scikit-learn-b2789dca9dc2\n",
    "- https://scikit-learn.org/stable/modules/feature_selection.html"
   ]
  },
  {
   "cell_type": "markdown",
   "id": "f02078d0",
   "metadata": {},
   "source": [
    "## Get data"
   ]
  },
  {
   "cell_type": "code",
   "execution_count": 15,
   "id": "8ddbd7b1",
   "metadata": {},
   "outputs": [
    {
     "data": {
      "text/html": [
       "<div>\n",
       "<style scoped>\n",
       "    .dataframe tbody tr th:only-of-type {\n",
       "        vertical-align: middle;\n",
       "    }\n",
       "\n",
       "    .dataframe tbody tr th {\n",
       "        vertical-align: top;\n",
       "    }\n",
       "\n",
       "    .dataframe thead th {\n",
       "        text-align: right;\n",
       "    }\n",
       "</style>\n",
       "<table border=\"1\" class=\"dataframe\">\n",
       "  <thead>\n",
       "    <tr style=\"text-align: right;\">\n",
       "      <th></th>\n",
       "      <th>CRIM</th>\n",
       "      <th>ZN</th>\n",
       "      <th>INDUS</th>\n",
       "      <th>CHAS</th>\n",
       "      <th>NOX</th>\n",
       "      <th>RM</th>\n",
       "      <th>AGE</th>\n",
       "      <th>DIS</th>\n",
       "      <th>RAD</th>\n",
       "      <th>TAX</th>\n",
       "      <th>PTRATIO</th>\n",
       "      <th>B</th>\n",
       "      <th>LSTAT</th>\n",
       "      <th>target</th>\n",
       "    </tr>\n",
       "  </thead>\n",
       "  <tbody>\n",
       "    <tr>\n",
       "      <th>0</th>\n",
       "      <td>0.00632</td>\n",
       "      <td>18.0</td>\n",
       "      <td>2.31</td>\n",
       "      <td>0.0</td>\n",
       "      <td>0.538</td>\n",
       "      <td>6.575</td>\n",
       "      <td>65.2</td>\n",
       "      <td>4.0900</td>\n",
       "      <td>1.0</td>\n",
       "      <td>296.0</td>\n",
       "      <td>15.3</td>\n",
       "      <td>396.90</td>\n",
       "      <td>4.98</td>\n",
       "      <td>24.0</td>\n",
       "    </tr>\n",
       "    <tr>\n",
       "      <th>1</th>\n",
       "      <td>0.02731</td>\n",
       "      <td>0.0</td>\n",
       "      <td>7.07</td>\n",
       "      <td>0.0</td>\n",
       "      <td>0.469</td>\n",
       "      <td>6.421</td>\n",
       "      <td>78.9</td>\n",
       "      <td>4.9671</td>\n",
       "      <td>2.0</td>\n",
       "      <td>242.0</td>\n",
       "      <td>17.8</td>\n",
       "      <td>396.90</td>\n",
       "      <td>9.14</td>\n",
       "      <td>21.6</td>\n",
       "    </tr>\n",
       "    <tr>\n",
       "      <th>2</th>\n",
       "      <td>0.02729</td>\n",
       "      <td>0.0</td>\n",
       "      <td>7.07</td>\n",
       "      <td>0.0</td>\n",
       "      <td>0.469</td>\n",
       "      <td>7.185</td>\n",
       "      <td>61.1</td>\n",
       "      <td>4.9671</td>\n",
       "      <td>2.0</td>\n",
       "      <td>242.0</td>\n",
       "      <td>17.8</td>\n",
       "      <td>392.83</td>\n",
       "      <td>4.03</td>\n",
       "      <td>34.7</td>\n",
       "    </tr>\n",
       "    <tr>\n",
       "      <th>3</th>\n",
       "      <td>0.03237</td>\n",
       "      <td>0.0</td>\n",
       "      <td>2.18</td>\n",
       "      <td>0.0</td>\n",
       "      <td>0.458</td>\n",
       "      <td>6.998</td>\n",
       "      <td>45.8</td>\n",
       "      <td>6.0622</td>\n",
       "      <td>3.0</td>\n",
       "      <td>222.0</td>\n",
       "      <td>18.7</td>\n",
       "      <td>394.63</td>\n",
       "      <td>2.94</td>\n",
       "      <td>33.4</td>\n",
       "    </tr>\n",
       "    <tr>\n",
       "      <th>4</th>\n",
       "      <td>0.06905</td>\n",
       "      <td>0.0</td>\n",
       "      <td>2.18</td>\n",
       "      <td>0.0</td>\n",
       "      <td>0.458</td>\n",
       "      <td>7.147</td>\n",
       "      <td>54.2</td>\n",
       "      <td>6.0622</td>\n",
       "      <td>3.0</td>\n",
       "      <td>222.0</td>\n",
       "      <td>18.7</td>\n",
       "      <td>396.90</td>\n",
       "      <td>5.33</td>\n",
       "      <td>36.2</td>\n",
       "    </tr>\n",
       "  </tbody>\n",
       "</table>\n",
       "</div>"
      ],
      "text/plain": [
       "      CRIM    ZN  INDUS  CHAS    NOX     RM   AGE     DIS  RAD    TAX  \\\n",
       "0  0.00632  18.0   2.31   0.0  0.538  6.575  65.2  4.0900  1.0  296.0   \n",
       "1  0.02731   0.0   7.07   0.0  0.469  6.421  78.9  4.9671  2.0  242.0   \n",
       "2  0.02729   0.0   7.07   0.0  0.469  7.185  61.1  4.9671  2.0  242.0   \n",
       "3  0.03237   0.0   2.18   0.0  0.458  6.998  45.8  6.0622  3.0  222.0   \n",
       "4  0.06905   0.0   2.18   0.0  0.458  7.147  54.2  6.0622  3.0  222.0   \n",
       "\n",
       "   PTRATIO       B  LSTAT  target  \n",
       "0     15.3  396.90   4.98    24.0  \n",
       "1     17.8  396.90   9.14    21.6  \n",
       "2     17.8  392.83   4.03    34.7  \n",
       "3     18.7  394.63   2.94    33.4  \n",
       "4     18.7  396.90   5.33    36.2  "
      ]
     },
     "execution_count": 15,
     "metadata": {},
     "output_type": "execute_result"
    }
   ],
   "source": [
    "from sklearn.datasets import load_boston\n",
    "boston_dataset = load_boston()\n",
    "\n",
    "boston = pd.DataFrame(boston_dataset.data, columns=boston_dataset.feature_names)\n",
    "boston['target'] = boston_dataset.target #MEDV\n",
    "boston.head()"
   ]
  },
  {
   "cell_type": "code",
   "execution_count": 16,
   "id": "5eeae20f",
   "metadata": {},
   "outputs": [
    {
     "name": "stdout",
     "output_type": "stream",
     "text": [
      "\n",
      "> Number of numerical features 13 ['CRIM', 'ZN', 'INDUS', 'CHAS', 'NOX', 'RM', 'AGE', 'DIS', 'RAD', 'TAX', 'PTRATIO', 'B', 'LSTAT']\n",
      "\n",
      "> Number of string features 0 []\n",
      "\n",
      "> Split in train/test\n",
      "\n",
      " X,y review (TRAIN): (339, 13) (339,)\n",
      "\n",
      " X,y review (TEST): (167, 13) (167,)\n"
     ]
    }
   ],
   "source": [
    "df=boston.copy()\n",
    "\n",
    "target_col='target'\n",
    "# make list of numeric and string columns\n",
    "numeric_cols = [] # could still have ordinal data\n",
    "string_cols = []  # could have ordinal or nominal data\n",
    "\n",
    "for col in df.columns:\n",
    "    if col!=target_col:\n",
    "        if (df.dtypes[col] == np.int64 or df.dtypes[col] == np.int32 or df.dtypes[col] == np.float64):\n",
    "            numeric_cols.append(col)      # True integer or float columns\n",
    "\n",
    "        if (df.dtypes[col] == object):  # Nominal and ordinal columns\n",
    "            string_cols.append(col)\n",
    "\n",
    "print('\\n> Number of numerical features',len(numeric_cols),numeric_cols)\n",
    "print('\\n> Number of string features',len(string_cols),string_cols)\n",
    "\n",
    "\n",
    "df = df[numeric_cols+[target_col]].dropna().copy()\n",
    "df = df.reset_index(drop=True)\n",
    "\n",
    "print('\\n> Split in train/test')\n",
    "from sklearn.model_selection import train_test_split\n",
    "df_train, df_test = train_test_split(df, test_size=0.33, random_state=0)\n",
    "\n",
    "# break into X and y dataframes\n",
    "X_train = df_train.reindex(columns=[x for x in df_train[numeric_cols].columns.values if x != target_col]).reset_index(drop=True)        # separate out X\n",
    "y_train = df_train.reindex(columns=[target_col])   # separate out y\n",
    "y_train=y_train.values.reshape(-1,1)\n",
    "y_train = np.ravel(y_train)                     # flatten the y array\n",
    "\n",
    "# break into X and y dataframes\n",
    "X_test = df_test.reindex(columns=[x for x in df_test[numeric_cols].columns.values if x != target_col]).reset_index(drop=True)       # separate out X\n",
    "y_test = df_test.reindex(columns=[target_col])   # separate out y\n",
    "y_test=y_test.values.reshape(-1,1)\n",
    "y_test = np.ravel(y_test)                     # flatten the y array\n",
    "\n",
    "print('\\n X,y review (TRAIN):',X_train.shape,y_train.shape)\n",
    "print('\\n X,y review (TEST):',X_test.shape,y_test.shape)"
   ]
  },
  {
   "cell_type": "markdown",
   "id": "1695aca5",
   "metadata": {},
   "source": [
    "## Iterate select features"
   ]
  },
  {
   "cell_type": "code",
   "execution_count": 17,
   "id": "191a387b",
   "metadata": {},
   "outputs": [],
   "source": [
    "from imp import reload\n",
    "import ds_toolbox.feature_selection.feat_selector\n",
    "reload(ds_toolbox.feature_selection.feat_selector)\n",
    "from ds_toolbox.feature_selection.feat_selector import RegFeatureSelector"
   ]
  },
  {
   "cell_type": "code",
   "execution_count": 18,
   "id": "f1e587c5",
   "metadata": {},
   "outputs": [
    {
     "name": "stdout",
     "output_type": "stream",
     "text": [
      "\n",
      "Strategy= variance\n",
      "selected_cols= 9 ['AGE', 'B', 'CRIM', 'INDUS', 'LSTAT', 'PTRATIO', 'RAD', 'TAX', 'ZN']\n",
      "\n",
      "Strategy= l1\n",
      "selected_cols= 2 ['B', 'TAX']\n",
      "\n",
      "Strategy= rf_feature_importance\n",
      "selected_cols= 9 ['AGE', 'B', 'CRIM', 'DIS', 'LSTAT', 'NOX', 'PTRATIO', 'RM', 'TAX']\n",
      "\n",
      "Strategy= rf_top_features\n",
      "selected_cols= 10 ['AGE', 'B', 'CRIM', 'DIS', 'INDUS', 'LSTAT', 'NOX', 'PTRATIO', 'RM', 'TAX']\n",
      "\n",
      "Strategy= stepwise\n",
      "selected_cols= 6 ['CHAS', 'DIS', 'LSTAT', 'NOX', 'PTRATIO', 'RM']\n"
     ]
    }
   ],
   "source": [
    "fs=RegFeatureSelector()\n",
    "available_strategies=fs._available_strategies\n",
    "\n",
    "for strategy in available_strategies:\n",
    "    print('\\nStrategy=',strategy)\n",
    "    fs=RegFeatureSelector(strategy=strategy)\n",
    "    X_adj=fs.fit_transform(X_train,pd.Series(y_train))\n",
    "    selected_cols=list(X_adj.columns)\n",
    "    print('selected_cols=',len(selected_cols),sorted(selected_cols))"
   ]
  },
  {
   "cell_type": "markdown",
   "id": "e5e57164",
   "metadata": {},
   "source": [
    "## To evaluate"
   ]
  },
  {
   "cell_type": "code",
   "execution_count": 28,
   "id": "54a62ad1",
   "metadata": {},
   "outputs": [
    {
     "name": "stdout",
     "output_type": "stream",
     "text": [
      "Dummy model\n",
      "MSE: 81.383\n",
      "MAE: 6.595\n",
      "\n",
      "Linear regression model\n",
      "MSE: 26.559\n",
      "MAE: 3.562\n"
     ]
    }
   ],
   "source": [
    "from sklearn.dummy import DummyRegressor\n",
    "from sklearn.pipeline import Pipeline\n",
    "from sklearn.metrics import mean_squared_error\n",
    "from sklearn.metrics import mean_absolute_error\n",
    "\n",
    "\n",
    "def score_estimator(estimator, X_test,y_test):\n",
    "    \"\"\"Score an estimator on the test set.\"\"\"\n",
    "    y_pred = estimator.predict(X_test)\n",
    "\n",
    "    print(\"MSE: %.3f\" %\n",
    "          mean_squared_error(y_test, y_pred))\n",
    "    print(\"MAE: %.3f\" %\n",
    "          mean_absolute_error(y_test, y_pred))\n",
    "\n",
    "    \n",
    "dummy = Pipeline([\n",
    "    (\"regressor\", DummyRegressor(strategy='mean')),\n",
    "]).fit(X_train, y_train)\n",
    "\n",
    "print('Dummy model')\n",
    "score_estimator(dummy, X_test,y_test)\n",
    "\n",
    "print('\\nLinear regression model')\n",
    "lr = Pipeline([\n",
    "    (\"regressor\", LinearRegression()),\n",
    "]).fit(X_train, y_train)\n",
    "score_estimator(lr, X_test,y_test)"
   ]
  },
  {
   "cell_type": "markdown",
   "id": "bcff5201",
   "metadata": {},
   "source": [
    "## Compare select + evaluate"
   ]
  },
  {
   "cell_type": "code",
   "execution_count": 40,
   "id": "129f245c",
   "metadata": {},
   "outputs": [
    {
     "name": "stdout",
     "output_type": "stream",
     "text": [
      "\n",
      "Strategy= variance\n",
      "selected_cols= 9 ['AGE', 'B', 'CRIM', 'INDUS', 'LSTAT', 'PTRATIO', 'RAD', 'TAX', 'ZN']\n",
      "check X_adj (167, 9)\n",
      "test_score: 0.569\n",
      "MSE: 34.727\n",
      "MAE: 4.138\n",
      "\n",
      "Strategy= l1\n",
      "selected_cols= 2 ['B', 'TAX']\n",
      "check X_adj (167, 2)\n",
      "test_score: 0.203\n",
      "MSE: 64.252\n",
      "MAE: 5.839\n",
      "\n",
      "Strategy= rf_feature_importance\n",
      "selected_cols= 9 ['AGE', 'B', 'CRIM', 'DIS', 'LSTAT', 'NOX', 'PTRATIO', 'RM', 'TAX']\n",
      "check X_adj (167, 9)\n",
      "test_score: 0.639\n",
      "MSE: 29.109\n",
      "MAE: 3.728\n",
      "\n",
      "Strategy= rf_top_features\n",
      "selected_cols= 10 ['AGE', 'B', 'CRIM', 'DIS', 'INDUS', 'LSTAT', 'NOX', 'PTRATIO', 'RM', 'TAX']\n",
      "check X_adj (167, 10)\n",
      "test_score: 0.639\n",
      "MSE: 29.114\n",
      "MAE: 3.731\n",
      "\n",
      "Strategy= stepwise\n",
      "selected_cols= 6 ['CHAS', 'DIS', 'LSTAT', 'NOX', 'PTRATIO', 'RM']\n",
      "check X_adj (167, 6)\n",
      "test_score: 0.639\n",
      "MSE: 29.074\n",
      "MAE: 3.824\n"
     ]
    }
   ],
   "source": [
    "from sklearn.linear_model import LinearRegression\n",
    "\n",
    "for strategy in ['variance', 'l1' ,'rf_feature_importance','rf_top_features','stepwise']:\n",
    "    print('\\nStrategy=',strategy)\n",
    "    combined_pipeline=Pipeline([\n",
    "        (\"feat_selector\", RegFeatureSelector(strategy=strategy)),\n",
    "        (\"regressor\", LinearRegression()),\n",
    "    ]).fit(X_train, pd.Series(y_train))\n",
    "    X_adj=combined_pipeline['feat_selector'].transform(X_test)\n",
    "    selected_cols=list(X_adj.columns)\n",
    "    print('selected_cols=',len(selected_cols),sorted(selected_cols))\n",
    "    print('check X_adj',X_adj.shape)\n",
    "    print('test_score:',combined_pipeline.score(X_test,y_test).round(3))\n",
    "    score_estimator(combined_pipeline, X_test,y_test)\n"
   ]
  },
  {
   "cell_type": "markdown",
   "id": "ca128d66",
   "metadata": {},
   "source": [
    "## GridsearchCV"
   ]
  },
  {
   "cell_type": "code",
   "execution_count": 47,
   "id": "449d8d98",
   "metadata": {},
   "outputs": [
    {
     "name": "stdout",
     "output_type": "stream",
     "text": [
      "Run GridsearchCV with strategies ['variance', 'l1', 'rf_feature_importance', 'rf_top_features', 'stepwise']\n",
      "Runtime: 12 sec\n",
      "\n",
      "best_strategy {'feat_selector__strategy': 'rf_feature_importance'}\n",
      "best_score 0.723\n",
      "\n",
      " gridsearch details:\n",
      "{'mean_fit_time': array([0.00478911, 0.00365772, 0.11243453, 2.0066288 , 0.2287447 ]), 'std_fit_time': array([0.00042136, 0.00203868, 0.02161333, 0.01097234, 0.01809523]), 'mean_score_time': array([0.00261359, 0.00099487, 0.00079956, 0.        , 0.00155759]), 'std_score_time': array([0.00044561, 0.00088918, 0.00159912, 0.        , 0.00080239]), 'param_feat_selector__strategy': masked_array(data=['variance', 'l1', 'rf_feature_importance',\n",
      "                   'rf_top_features', 'stepwise'],\n",
      "             mask=[False, False, False, False, False],\n",
      "       fill_value='?',\n",
      "            dtype=object), 'params': [{'feat_selector__strategy': 'variance'}, {'feat_selector__strategy': 'l1'}, {'feat_selector__strategy': 'rf_feature_importance'}, {'feat_selector__strategy': 'rf_top_features'}, {'feat_selector__strategy': 'stepwise'}], 'split0_test_score': array([0.59225672, 0.36985187, 0.73382223, 0.73670256, 0.698574  ]), 'split1_test_score': array([0.6226618 , 0.19034974, 0.66562959, 0.66562959, 0.64687649]), 'split2_test_score': array([0.68042119, 0.29642606, 0.74715144, 0.74715144, 0.74290319]), 'split3_test_score': array([0.64610301, 0.20045137, 0.69108302, 0.6924388 , 0.68954269]), 'split4_test_score': array([0.60415166, 0.15925672, 0.77959638, 0.77402331, 0.7741143 ]), 'mean_test_score': array([0.62911888, 0.24326715, 0.72345653, 0.72318914, 0.71040213]), 'std_test_score': array([0.03144603, 0.07815466, 0.04052796, 0.03898616, 0.04410462]), 'rank_test_score': array([4, 5, 1, 2, 3])}\n"
     ]
    }
   ],
   "source": [
    "from sklearn.model_selection import GridSearchCV\n",
    "\n",
    "import time\n",
    "\n",
    "# starting time\n",
    "start = time.time()\n",
    "print(f\"Run GridsearchCV with strategies\",available_strategies)\n",
    "combined_pipeline=Pipeline([\n",
    "        (\"feat_selector\", Reg_feature_selector()),\n",
    "        (\"regressor\", LinearRegression()),\n",
    "    ]).fit(X_train, pd.Series(y_train))\n",
    "\n",
    "\n",
    "reg_CV = GridSearchCV(combined_pipeline, {'feat_selector__strategy' : available_strategies})\n",
    "reg_CV.fit(X_train, pd.Series(y_train))\n",
    "\n",
    "# end time\n",
    "end = time.time()\n",
    "\n",
    "# total time taken\n",
    "tot_time=round((end - start))\n",
    "print(f\"Runtime: {tot_time} sec\")\n",
    "\n",
    "print('\\nbest_strategy',reg_CV.best_params_)\n",
    "print('best_score',reg_CV.best_score_.round(3))\n",
    "print(\"\\n gridsearch details:\")\n",
    "print(reg_CV.cv_results_)"
   ]
  },
  {
   "cell_type": "markdown",
   "id": "2eb5c8d7",
   "metadata": {},
   "source": [
    "Random tests"
   ]
  },
  {
   "cell_type": "code",
   "execution_count": 4,
   "id": "2f303efd",
   "metadata": {},
   "outputs": [
    {
     "data": {
      "text/plain": [
       "array([381, 392, 602, 289, 860, 648, 606,   1, 510, 166, 336])"
      ]
     },
     "execution_count": 4,
     "metadata": {},
     "output_type": "execute_result"
    }
   ],
   "source": [
    "import numpy as np\n",
    "rand_list = np.random.randint(\n",
    "    low=0,\n",
    "    high=1000,\n",
    "    size=11,\n",
    ")\n",
    "rand_list"
   ]
  },
  {
   "cell_type": "code",
   "execution_count": null,
   "id": "e8fa8fca",
   "metadata": {},
   "outputs": [],
   "source": []
  }
 ],
 "metadata": {
  "kernelspec": {
   "display_name": "Python 3",
   "language": "python",
   "name": "python3"
  },
  "language_info": {
   "codemirror_mode": {
    "name": "ipython",
    "version": 3
   },
   "file_extension": ".py",
   "mimetype": "text/x-python",
   "name": "python",
   "nbconvert_exporter": "python",
   "pygments_lexer": "ipython3",
   "version": "3.8.3"
  }
 },
 "nbformat": 4,
 "nbformat_minor": 5
}
